{
  "nbformat": 4,
  "nbformat_minor": 0,
  "metadata": {
    "colab": {
      "name": "age prediction web app",
      "provenance": [],
      "collapsed_sections": [],
      "include_colab_link": true
    },
    "kernelspec": {
      "name": "python3",
      "display_name": "Python 3"
    }
  },
  "cells": [
    {
      "cell_type": "markdown",
      "metadata": {
        "id": "view-in-github",
        "colab_type": "text"
      },
      "source": [
        "<a href=\"https://colab.research.google.com/github/aliayehya/AltinbasMasterThesis/blob/main/age_prediction_web_app.ipynb\" target=\"_parent\"><img src=\"https://colab.research.google.com/assets/colab-badge.svg\" alt=\"Open In Colab\"/></a>"
      ]
    },
    {
      "cell_type": "code",
      "execution_count": 1,
      "metadata": {
        "id": "bRbDXQ7seKvP",
        "colab": {
          "base_uri": "https://localhost:8080/"
        },
        "outputId": "1d3905b9-fe8b-46b1-ae77-601aa8e18651"
      },
      "outputs": [
        {
          "output_type": "stream",
          "name": "stdout",
          "text": [
            "Downloading...\n",
            "From: https://drive.google.com/uc?id=1qPv_3q3Gmuo1mZwE-M5dirdj13lGVbXi\n",
            "To: /content/B4-Regression.zip\n",
            "100% 66.7M/66.7M [00:00<00:00, 128MB/s] \n",
            "Archive:  B4-Regression.zip\n",
            "   creating: content/My_model/\n",
            "  inflating: content/My_model/saved_model.pb  \n",
            "  inflating: content/My_model/keras_metadata.pb  \n",
            "   creating: content/My_model/assets/\n",
            "   creating: content/My_model/variables/\n",
            "  inflating: content/My_model/variables/variables.data-00000-of-00001  \n",
            "  inflating: content/My_model/variables/variables.index  \n",
            "Downloading...\n",
            "From: https://drive.google.com/uc?id=1uXfqiInKdhrluOhtKwneXav5YZ81MCG7\n",
            "To: /content/mmod_human_face_detector.dat\n",
            "100% 730k/730k [00:00<00:00, 48.4MB/s]\n"
          ]
        }
      ],
      "source": [
        "!gdown --id 1qPv_3q3Gmuo1mZwE-M5dirdj13lGVbXi\n",
        "!unzip B4-Regression.zip\n",
        "\n",
        "#download face detection model\n",
        "!gdown --id 1uXfqiInKdhrluOhtKwneXav5YZ81MCG7\n",
        "\n",
        "\n"
      ]
    },
    {
      "cell_type": "code",
      "source": [
        "\n",
        "#importing libraries\n",
        "import cv2\n",
        "from albumentations import( Compose,Resize, ToFloat)\n",
        "import numpy as np\n",
        "from keras.models import load_model\n",
        "from keras.metrics import mean_absolute_error\n",
        "from google.colab import files\n",
        "import matplotlib.pyplot as plt\n",
        "import dlib\n",
        "\n",
        "\n",
        "\n",
        "#augmentations\n",
        "AUGMENTATIONS_TEST = Compose([\n",
        "    Resize(200, 200, always_apply=False, p=1),\n",
        "    ToFloat(max_value=255)])"
      ],
      "metadata": {
        "id": "LoOXUQ1jMliN"
      },
      "execution_count": 2,
      "outputs": []
    },
    {
      "cell_type": "code",
      "source": [
        "!pip install flask-ngrok\n",
        "!pip install flask==0.12.2  # Newer versions of flask don't work in Colab\n",
        "                            # See https://github.com/plotly/dash/issues/257\n",
        "! pip install pyngrok\n",
        "! ngrok authtoken 229evKfeI1i6q0fCWLRL4BdpbcB_36Q4i5wKZPcGS8LnC9XW2\n"
      ],
      "metadata": {
        "colab": {
          "base_uri": "https://localhost:8080/"
        },
        "id": "s-nZHoBwanvy",
        "outputId": "74aa83b5-f96f-4ef5-c0dc-61e7227f7361"
      },
      "execution_count": 3,
      "outputs": [
        {
          "output_type": "stream",
          "name": "stdout",
          "text": [
            "Collecting flask-ngrok\n",
            "  Downloading flask_ngrok-0.0.25-py3-none-any.whl (3.1 kB)\n",
            "Requirement already satisfied: requests in /usr/local/lib/python3.7/dist-packages (from flask-ngrok) (2.23.0)\n",
            "Requirement already satisfied: Flask>=0.8 in /usr/local/lib/python3.7/dist-packages (from flask-ngrok) (1.1.4)\n",
            "Requirement already satisfied: Werkzeug<2.0,>=0.15 in /usr/local/lib/python3.7/dist-packages (from Flask>=0.8->flask-ngrok) (1.0.1)\n",
            "Requirement already satisfied: itsdangerous<2.0,>=0.24 in /usr/local/lib/python3.7/dist-packages (from Flask>=0.8->flask-ngrok) (1.1.0)\n",
            "Requirement already satisfied: Jinja2<3.0,>=2.10.1 in /usr/local/lib/python3.7/dist-packages (from Flask>=0.8->flask-ngrok) (2.11.3)\n",
            "Requirement already satisfied: click<8.0,>=5.1 in /usr/local/lib/python3.7/dist-packages (from Flask>=0.8->flask-ngrok) (7.1.2)\n",
            "Requirement already satisfied: MarkupSafe>=0.23 in /usr/local/lib/python3.7/dist-packages (from Jinja2<3.0,>=2.10.1->Flask>=0.8->flask-ngrok) (2.0.1)\n",
            "Requirement already satisfied: chardet<4,>=3.0.2 in /usr/local/lib/python3.7/dist-packages (from requests->flask-ngrok) (3.0.4)\n",
            "Requirement already satisfied: certifi>=2017.4.17 in /usr/local/lib/python3.7/dist-packages (from requests->flask-ngrok) (2021.10.8)\n",
            "Requirement already satisfied: idna<3,>=2.5 in /usr/local/lib/python3.7/dist-packages (from requests->flask-ngrok) (2.10)\n",
            "Requirement already satisfied: urllib3!=1.25.0,!=1.25.1,<1.26,>=1.21.1 in /usr/local/lib/python3.7/dist-packages (from requests->flask-ngrok) (1.24.3)\n",
            "Installing collected packages: flask-ngrok\n",
            "Successfully installed flask-ngrok-0.0.25\n",
            "Collecting flask==0.12.2\n",
            "  Downloading Flask-0.12.2-py2.py3-none-any.whl (83 kB)\n",
            "\u001b[K     |████████████████████████████████| 83 kB 437 kB/s \n",
            "\u001b[?25hRequirement already satisfied: click>=2.0 in /usr/local/lib/python3.7/dist-packages (from flask==0.12.2) (7.1.2)\n",
            "Requirement already satisfied: itsdangerous>=0.21 in /usr/local/lib/python3.7/dist-packages (from flask==0.12.2) (1.1.0)\n",
            "Requirement already satisfied: Werkzeug>=0.7 in /usr/local/lib/python3.7/dist-packages (from flask==0.12.2) (1.0.1)\n",
            "Requirement already satisfied: Jinja2>=2.4 in /usr/local/lib/python3.7/dist-packages (from flask==0.12.2) (2.11.3)\n",
            "Requirement already satisfied: MarkupSafe>=0.23 in /usr/local/lib/python3.7/dist-packages (from Jinja2>=2.4->flask==0.12.2) (2.0.1)\n",
            "Installing collected packages: flask\n",
            "  Attempting uninstall: flask\n",
            "    Found existing installation: Flask 1.1.4\n",
            "    Uninstalling Flask-1.1.4:\n",
            "      Successfully uninstalled Flask-1.1.4\n",
            "Successfully installed flask-0.12.2\n",
            "Collecting pyngrok\n",
            "  Downloading pyngrok-5.1.0.tar.gz (745 kB)\n",
            "\u001b[K     |████████████████████████████████| 745 kB 5.0 MB/s \n",
            "\u001b[?25hRequirement already satisfied: PyYAML in /usr/local/lib/python3.7/dist-packages (from pyngrok) (3.13)\n",
            "Building wheels for collected packages: pyngrok\n",
            "  Building wheel for pyngrok (setup.py) ... \u001b[?25l\u001b[?25hdone\n",
            "  Created wheel for pyngrok: filename=pyngrok-5.1.0-py3-none-any.whl size=19007 sha256=9ae5dee67a47d09547f0042125525b0847643d9b9ca4b3609fc720befd2d4030\n",
            "  Stored in directory: /root/.cache/pip/wheels/bf/e6/af/ccf6598ecefecd44104069371795cb9b3afbcd16987f6ccfb3\n",
            "Successfully built pyngrok\n",
            "Installing collected packages: pyngrok\n",
            "Successfully installed pyngrok-5.1.0\n",
            "Authtoken saved to configuration file: /root/.ngrok2/ngrok.yml\n"
          ]
        }
      ]
    },
    {
      "cell_type": "code",
      "source": [
        "checkpoint_path = \"/content/content/My_model\"\n",
        "def mae_years(in_gt, in_pred):\n",
        "    return mean_absolute_error(in_gt, in_pred)\n",
        "model = load_model(checkpoint_path, custom_objects={'mae_years':mae_years})\n",
        "cnn_face_detector = dlib.get_frontal_face_detector()\n",
        "       \n",
        "print('Model loaded')"
      ],
      "metadata": {
        "colab": {
          "base_uri": "https://localhost:8080/"
        },
        "id": "EDqxmICKzRW3",
        "outputId": "d2c33bf5-92d9-4c8f-dcf5-3900bab2ca02"
      },
      "execution_count": 4,
      "outputs": [
        {
          "output_type": "stream",
          "name": "stdout",
          "text": [
            "Model loaded\n"
          ]
        }
      ]
    },
    {
      "metadata": {
        "id": "vYeSYhV0y-KI",
        "colab": {
          "base_uri": "https://localhost:8080/"
        },
        "outputId": "5eee9f40-864f-48e4-ad00-4d801bf14df8"
      },
      "cell_type": "code",
      "source": [
        "# flask_ngrok_example.py\n",
        "# Flask utils\n",
        "from flask import Flask, redirect, url_for, request, render_template\n",
        "from werkzeug.utils import secure_filename\n",
        "from flask_ngrok import run_with_ngrok\n",
        "\n",
        "app = Flask(__name__)\n",
        "run_with_ngrok(app)  # Start ngrok when app is run\n",
        "\n",
        "def model_predict(img_path, model):\n",
        "    Image = cv2.imread(img_path, cv2.COLOR_BGR2RGB)\n",
        "    # apply face detection (cnn)\n",
        "    faces_cnn = cnn_face_detector(Image, 1)\n",
        "    print(faces_cnn)\n",
        "    if len(faces_cnn) >= 1:\n",
        "      print('face deteted')\n",
        "      face = faces_cnn[0]\n",
        "      x1, y1= face.left(), face.top()\n",
        "      x2, y2 = face.right(), face.bottom()\n",
        "      Image = Image[y1:y2,x1:x2,:] \n",
        "    img_augmented = AUGMENTATIONS_TEST(image=Image)\n",
        "    img = np.expand_dims(img_augmented['image'], axis=0)\n",
        "    img.shape\n",
        "    preds = model.predict(img, verbose = True)\n",
        "    return preds\n",
        "\n",
        "@app.route('/', methods=['GET']) \n",
        "def hello_word(): \n",
        "    return render_template('index.html') \n",
        "@app.route('/', methods=['POST']) \n",
        "def predict(): \n",
        "    imagefile= request.files['imagefile'] \n",
        "    image_path = \"/content/templates/uploads/\" + imagefile.filename \n",
        "    imagefile.save(image_path)  \n",
        "    Image = cv2.imread(image_path, cv2.COLOR_BGR2RGB)\n",
        "    # apply face detection (cnn)\n",
        "    faces_cnn = cnn_face_detector(Image, 1)\n",
        "    print(faces_cnn)\n",
        "    if len(faces_cnn) >= 1:\n",
        "      print('face deteted')\n",
        "      face = faces_cnn[0]\n",
        "      x1, y1= face.left(), face.top()\n",
        "      x2, y2 = face.right(), face.bottom()\n",
        "      Image = Image[y1:y2,x1:x2,:] \n",
        "    img_augmented = AUGMENTATIONS_TEST(image=Image)\n",
        "    img = np.expand_dims(img_augmented['image'], axis=0)\n",
        "    img.shape\n",
        "    preds = model.predict(img, verbose = True)\n",
        "    age = preds[0][0]\n",
        "    return render_template('index.html',prediction=round(age),user_image =  image_path)\n",
        "    \n",
        "if __name__ == '__main__':\n",
        "    app.run()  # If address is in use, may need to terminate other sessions:\n",
        "               # Runtime > Manage Sessions > Terminate Other Sessions"
      ],
      "execution_count": 14,
      "outputs": [
        {
          "output_type": "stream",
          "name": "stderr",
          "text": [
            " * Running on http://127.0.0.1:5000/ (Press CTRL+C to quit)\n"
          ]
        },
        {
          "output_type": "stream",
          "name": "stdout",
          "text": [
            " * Running on http://0bef-35-185-37-166.ngrok.io\n",
            " * Traffic stats available on http://127.0.0.1:4040\n"
          ]
        },
        {
          "output_type": "stream",
          "name": "stderr",
          "text": [
            "127.0.0.1 - - [22/Jan/2022 20:46:53] \"\u001b[37mGET / HTTP/1.1\u001b[0m\" 200 -\n",
            "127.0.0.1 - - [22/Jan/2022 20:46:53] \"\u001b[33mGET /favicon.ico HTTP/1.1\u001b[0m\" 404 -\n"
          ]
        },
        {
          "output_type": "stream",
          "name": "stdout",
          "text": [
            "rectangles[[(58, 428) (724, 1094)]]\n",
            "face deteted\n",
            "1/1 [==============================] - 0s 170ms/step\n"
          ]
        },
        {
          "output_type": "stream",
          "name": "stderr",
          "text": [
            "127.0.0.1 - - [22/Jan/2022 20:47:06] \"\u001b[37mPOST / HTTP/1.1\u001b[0m\" 200 -\n",
            "127.0.0.1 - - [22/Jan/2022 20:47:06] \"\u001b[33mGET /content/templates/uploads/photo_2021-12-09_19-53-59.jpg HTTP/1.1\u001b[0m\" 404 -\n"
          ]
        }
      ]
    }
  ]
}